{
 "cells": [
  {
   "cell_type": "code",
   "execution_count": 1,
   "metadata": {},
   "outputs": [
    {
     "name": "stdout",
     "output_type": "stream",
     "text": [
      "1.10.1\n"
     ]
    }
   ],
   "source": [
    "import tensorflow as tf\n",
    "from tensorflow import keras\n",
    "\n",
    "import numpy as np\n",
    "\n",
    "print(tf.__version__)\n"
   ]
  },
  {
   "cell_type": "code",
   "execution_count": 2,
   "metadata": {},
   "outputs": [
    {
     "name": "stdout",
     "output_type": "stream",
     "text": [
      "Downloading data from https://storage.googleapis.com/tensorflow/tf-keras-datasets/imdb.npz\n",
      "17465344/17464789 [==============================] - 2s 0us/step\n"
     ]
    }
   ],
   "source": [
    "imdb = keras.datasets.imdb\n",
    "\n",
    "(train_data, train_labels), (test_data, test_labels) = imdb.load_data(num_words=10000)"
   ]
  },
  {
   "cell_type": "code",
   "execution_count": 3,
   "metadata": {},
   "outputs": [
    {
     "name": "stdout",
     "output_type": "stream",
     "text": [
      "Training entries: 25000, labels: 25000\n"
     ]
    }
   ],
   "source": [
    "print(\"Training entries: {}, labels: {}\".format(len(train_data), len(train_labels)))"
   ]
  },
  {
   "cell_type": "code",
   "execution_count": 4,
   "metadata": {},
   "outputs": [
    {
     "name": "stdout",
     "output_type": "stream",
     "text": [
      "Downloading data from https://storage.googleapis.com/tensorflow/tf-keras-datasets/imdb_word_index.json\n",
      "1646592/1641221 [==============================] - 0s 0us/step\n"
     ]
    }
   ],
   "source": [
    "# A dictionary mapping words to an integer index\n",
    "word_index = imdb.get_word_index()\n",
    "\n",
    "# The first indices are reserved\n",
    "word_index = {k:(v+3) for k,v in word_index.items()} \n",
    "word_index[\"<PAD>\"] = 0\n",
    "word_index[\"<START>\"] = 1\n",
    "word_index[\"<UNK>\"] = 2  # unknown\n",
    "word_index[\"<UNUSED>\"] = 3\n",
    "\n",
    "reverse_word_index = dict([(value, key) for (key, value) in word_index.items()])\n",
    "\n",
    "def decode_review(text):\n",
    "    return ' '.join([reverse_word_index.get(i, '?') for i in text]) # the second argument is default\n"
   ]
  },
  {
   "cell_type": "code",
   "execution_count": 5,
   "metadata": {},
   "outputs": [
    {
     "data": {
      "text/plain": [
       "\"<START> this film was just brilliant casting location scenery story direction everyone's really suited the part they played and you could just imagine being there robert <UNK> is an amazing actor and now the same being director <UNK> father came from the same scottish island as myself so i loved the fact there was a real connection with this film the witty remarks throughout the film were great it was just brilliant so much that i bought the film as soon as it was released for <UNK> and would recommend it to everyone to watch and the fly fishing was amazing really cried at the end it was so sad and you know what they say if you cry at a film it must have been good and this definitely was also <UNK> to the two little boy's that played the <UNK> of norman and paul they were just brilliant children are often left out of the <UNK> list i think because the stars that play them all grown up are such a big profile for the whole film but these children are amazing and should be praised for what they have done don't you think the whole story was so lovely because it was true and was someone's life after all that was shared with us all\""
      ]
     },
     "execution_count": 5,
     "metadata": {},
     "output_type": "execute_result"
    }
   ],
   "source": [
    "decode_review(train_data[0])"
   ]
  },
  {
   "cell_type": "code",
   "execution_count": 6,
   "metadata": {},
   "outputs": [],
   "source": [
    "train_data = keras.preprocessing.sequence.pad_sequences(train_data,\n",
    "                                                        value=word_index[\"<PAD>\"],\n",
    "                                                        padding='post',\n",
    "                                                        maxlen=256)\n",
    "\n",
    "test_data = keras.preprocessing.sequence.pad_sequences(test_data,\n",
    "                                                       value=word_index[\"<PAD>\"],\n",
    "                                                       padding='post',\n",
    "                                                       maxlen=256)"
   ]
  },
  {
   "cell_type": "code",
   "execution_count": 7,
   "metadata": {},
   "outputs": [
    {
     "data": {
      "text/plain": [
       "(256, 256)"
      ]
     },
     "execution_count": 7,
     "metadata": {},
     "output_type": "execute_result"
    }
   ],
   "source": [
    "len(train_data[0]), len(train_data[1])"
   ]
  },
  {
   "cell_type": "code",
   "execution_count": 8,
   "metadata": {},
   "outputs": [
    {
     "name": "stdout",
     "output_type": "stream",
     "text": [
      "[   1   14   22   16   43  530  973 1622 1385   65  458 4468   66 3941\n",
      "    4  173   36  256    5   25  100   43  838  112   50  670    2    9\n",
      "   35  480  284    5  150    4  172  112  167    2  336  385   39    4\n",
      "  172 4536 1111   17  546   38   13  447    4  192   50   16    6  147\n",
      " 2025   19   14   22    4 1920 4613  469    4   22   71   87   12   16\n",
      "   43  530   38   76   15   13 1247    4   22   17  515   17   12   16\n",
      "  626   18    2    5   62  386   12    8  316    8  106    5    4 2223\n",
      " 5244   16  480   66 3785   33    4  130   12   16   38  619    5   25\n",
      "  124   51   36  135   48   25 1415   33    6   22   12  215   28   77\n",
      "   52    5   14  407   16   82    2    8    4  107  117 5952   15  256\n",
      "    4    2    7 3766    5  723   36   71   43  530  476   26  400  317\n",
      "   46    7    4    2 1029   13  104   88    4  381   15  297   98   32\n",
      " 2071   56   26  141    6  194 7486   18    4  226   22   21  134  476\n",
      "   26  480    5  144   30 5535   18   51   36   28  224   92   25  104\n",
      "    4  226   65   16   38 1334   88   12   16  283    5   16 4472  113\n",
      "  103   32   15   16 5345   19  178   32    0    0    0    0    0    0\n",
      "    0    0    0    0    0    0    0    0    0    0    0    0    0    0\n",
      "    0    0    0    0    0    0    0    0    0    0    0    0    0    0\n",
      "    0    0    0    0]\n"
     ]
    }
   ],
   "source": [
    "print(train_data[0])"
   ]
  },
  {
   "cell_type": "code",
   "execution_count": 9,
   "metadata": {},
   "outputs": [
    {
     "name": "stdout",
     "output_type": "stream",
     "text": [
      "_________________________________________________________________\n",
      "Layer (type)                 Output Shape              Param #   \n",
      "=================================================================\n",
      "embedding (Embedding)        (None, None, 16)          160000    \n",
      "_________________________________________________________________\n",
      "global_average_pooling1d (Gl (None, 16)                0         \n",
      "_________________________________________________________________\n",
      "dense (Dense)                (None, 16)                272       \n",
      "_________________________________________________________________\n",
      "dense_1 (Dense)              (None, 1)                 17        \n",
      "=================================================================\n",
      "Total params: 160,289\n",
      "Trainable params: 160,289\n",
      "Non-trainable params: 0\n",
      "_________________________________________________________________\n"
     ]
    }
   ],
   "source": [
    "# input shape is the vocabulary count used for the movie reviews (10,000 words)\n",
    "vocab_size = 10000\n",
    "\n",
    "model = keras.Sequential()\n",
    "model.add(keras.layers.Embedding(vocab_size, 16))\n",
    "model.add(keras.layers.GlobalAveragePooling1D())\n",
    "model.add(keras.layers.Dense(16, activation=tf.nn.relu))\n",
    "model.add(keras.layers.Dense(1, activation=tf.nn.sigmoid))\n",
    "\n",
    "model.summary()"
   ]
  },
  {
   "cell_type": "code",
   "execution_count": 10,
   "metadata": {},
   "outputs": [],
   "source": [
    "model.compile(optimizer=tf.train.AdamOptimizer(),\n",
    "              loss='binary_crossentropy',\n",
    "              metrics=['accuracy'])"
   ]
  },
  {
   "cell_type": "code",
   "execution_count": 11,
   "metadata": {},
   "outputs": [],
   "source": [
    "x_val = train_data[:10000]\n",
    "partial_x_train = train_data[10000:]\n",
    "\n",
    "y_val = train_labels[:10000]\n",
    "partial_y_train = train_labels[10000:]"
   ]
  },
  {
   "cell_type": "code",
   "execution_count": 12,
   "metadata": {},
   "outputs": [
    {
     "data": {
      "text/plain": [
       "array([[   1,   14,   22, ...,    0,    0,    0],\n",
       "       [   1,  194, 1153, ...,    0,    0,    0],\n",
       "       [   1,   14,   47, ...,    0,    0,    0],\n",
       "       ...,\n",
       "       [   1,   14,    9, ...,    0,    0,    0],\n",
       "       [   1,   14,   20, ...,    0,    0,    0],\n",
       "       [   1,   51,  527, ...,    0,    0,    0]], dtype=int32)"
      ]
     },
     "execution_count": 12,
     "metadata": {},
     "output_type": "execute_result"
    }
   ],
   "source": [
    "x_val"
   ]
  },
  {
   "cell_type": "code",
   "execution_count": 13,
   "metadata": {},
   "outputs": [
    {
     "name": "stdout",
     "output_type": "stream",
     "text": [
      "Train on 15000 samples, validate on 10000 samples\n",
      "Epoch 1/40\n",
      "15000/15000 [==============================] - 1s 35us/step - loss: 0.7699 - acc: 0.5035 - val_loss: 0.7040 - val_acc: 0.4947\n",
      "Epoch 2/40\n",
      "15000/15000 [==============================] - 0s 17us/step - loss: 0.6935 - acc: 0.5210 - val_loss: 0.6910 - val_acc: 0.5265\n",
      "Epoch 3/40\n",
      "15000/15000 [==============================] - 0s 17us/step - loss: 0.6900 - acc: 0.5433 - val_loss: 0.6891 - val_acc: 0.5659\n",
      "Epoch 4/40\n",
      "15000/15000 [==============================] - 0s 17us/step - loss: 0.6876 - acc: 0.5979 - val_loss: 0.6869 - val_acc: 0.6116\n",
      "Epoch 5/40\n",
      "15000/15000 [==============================] - 0s 17us/step - loss: 0.6851 - acc: 0.6413 - val_loss: 0.6847 - val_acc: 0.6466\n",
      "Epoch 6/40\n",
      "15000/15000 [==============================] - 0s 17us/step - loss: 0.6825 - acc: 0.7039 - val_loss: 0.6821 - val_acc: 0.7078\n",
      "Epoch 7/40\n",
      "15000/15000 [==============================] - 0s 17us/step - loss: 0.6795 - acc: 0.7534 - val_loss: 0.6793 - val_acc: 0.7123\n",
      "Epoch 8/40\n",
      "15000/15000 [==============================] - 0s 17us/step - loss: 0.6760 - acc: 0.7643 - val_loss: 0.6757 - val_acc: 0.7631\n",
      "Epoch 9/40\n",
      "15000/15000 [==============================] - 0s 17us/step - loss: 0.6718 - acc: 0.7898 - val_loss: 0.6716 - val_acc: 0.7688\n",
      "Epoch 10/40\n",
      "15000/15000 [==============================] - 0s 17us/step - loss: 0.6667 - acc: 0.7874 - val_loss: 0.6662 - val_acc: 0.7739\n",
      "Epoch 11/40\n",
      "15000/15000 [==============================] - 0s 18us/step - loss: 0.6606 - acc: 0.7791 - val_loss: 0.6597 - val_acc: 0.7634\n",
      "Epoch 12/40\n",
      "15000/15000 [==============================] - 0s 17us/step - loss: 0.6523 - acc: 0.7917 - val_loss: 0.6516 - val_acc: 0.7756\n",
      "Epoch 13/40\n",
      "15000/15000 [==============================] - 0s 17us/step - loss: 0.6421 - acc: 0.7851 - val_loss: 0.6424 - val_acc: 0.7556\n",
      "Epoch 14/40\n",
      "15000/15000 [==============================] - 0s 17us/step - loss: 0.6296 - acc: 0.7914 - val_loss: 0.6286 - val_acc: 0.7823\n",
      "Epoch 15/40\n",
      "15000/15000 [==============================] - 0s 17us/step - loss: 0.6136 - acc: 0.7997 - val_loss: 0.6124 - val_acc: 0.7872\n",
      "Epoch 16/40\n",
      "15000/15000 [==============================] - 0s 17us/step - loss: 0.5946 - acc: 0.8051 - val_loss: 0.5937 - val_acc: 0.7916\n",
      "Epoch 17/40\n",
      "15000/15000 [==============================] - 0s 17us/step - loss: 0.5722 - acc: 0.8100 - val_loss: 0.5728 - val_acc: 0.7979\n",
      "Epoch 18/40\n",
      "15000/15000 [==============================] - 0s 17us/step - loss: 0.5475 - acc: 0.8190 - val_loss: 0.5494 - val_acc: 0.8029\n",
      "Epoch 19/40\n",
      "15000/15000 [==============================] - 0s 17us/step - loss: 0.5211 - acc: 0.8268 - val_loss: 0.5252 - val_acc: 0.8103\n",
      "Epoch 20/40\n",
      "15000/15000 [==============================] - 0s 17us/step - loss: 0.4944 - acc: 0.8347 - val_loss: 0.5010 - val_acc: 0.8162\n",
      "Epoch 21/40\n",
      "15000/15000 [==============================] - 0s 17us/step - loss: 0.4673 - acc: 0.8429 - val_loss: 0.4773 - val_acc: 0.8268\n",
      "Epoch 22/40\n",
      "15000/15000 [==============================] - 0s 17us/step - loss: 0.4414 - acc: 0.8545 - val_loss: 0.4548 - val_acc: 0.8354\n",
      "Epoch 23/40\n",
      "15000/15000 [==============================] - 0s 17us/step - loss: 0.4172 - acc: 0.8611 - val_loss: 0.4343 - val_acc: 0.8417\n",
      "Epoch 24/40\n",
      "15000/15000 [==============================] - 0s 17us/step - loss: 0.3944 - acc: 0.8689 - val_loss: 0.4153 - val_acc: 0.8479\n",
      "Epoch 25/40\n",
      "15000/15000 [==============================] - 0s 17us/step - loss: 0.3739 - acc: 0.8752 - val_loss: 0.3987 - val_acc: 0.8530\n",
      "Epoch 26/40\n",
      "15000/15000 [==============================] - 0s 17us/step - loss: 0.3556 - acc: 0.8811 - val_loss: 0.3839 - val_acc: 0.8573\n",
      "Epoch 27/40\n",
      "15000/15000 [==============================] - 0s 17us/step - loss: 0.3392 - acc: 0.8855 - val_loss: 0.3712 - val_acc: 0.8623\n",
      "Epoch 28/40\n",
      "15000/15000 [==============================] - 0s 17us/step - loss: 0.3245 - acc: 0.8909 - val_loss: 0.3603 - val_acc: 0.8656\n",
      "Epoch 29/40\n",
      "15000/15000 [==============================] - 0s 17us/step - loss: 0.3115 - acc: 0.8933 - val_loss: 0.3510 - val_acc: 0.8656\n",
      "Epoch 30/40\n",
      "15000/15000 [==============================] - 0s 17us/step - loss: 0.3003 - acc: 0.8965 - val_loss: 0.3427 - val_acc: 0.8692\n",
      "Epoch 31/40\n",
      "15000/15000 [==============================] - 0s 18us/step - loss: 0.2893 - acc: 0.9007 - val_loss: 0.3357 - val_acc: 0.8716\n",
      "Epoch 32/40\n",
      "15000/15000 [==============================] - 0s 17us/step - loss: 0.2801 - acc: 0.9017 - val_loss: 0.3296 - val_acc: 0.8736\n",
      "Epoch 33/40\n",
      "15000/15000 [==============================] - 0s 18us/step - loss: 0.2709 - acc: 0.9045 - val_loss: 0.3244 - val_acc: 0.8739\n",
      "Epoch 34/40\n",
      "15000/15000 [==============================] - 0s 17us/step - loss: 0.2627 - acc: 0.9085 - val_loss: 0.3193 - val_acc: 0.8760\n",
      "Epoch 35/40\n",
      "15000/15000 [==============================] - 0s 17us/step - loss: 0.2555 - acc: 0.9097 - val_loss: 0.3151 - val_acc: 0.8777\n",
      "Epoch 36/40\n",
      "15000/15000 [==============================] - 0s 17us/step - loss: 0.2479 - acc: 0.9121 - val_loss: 0.3115 - val_acc: 0.8786\n",
      "Epoch 37/40\n",
      "15000/15000 [==============================] - 0s 18us/step - loss: 0.2415 - acc: 0.9144 - val_loss: 0.3085 - val_acc: 0.8790\n",
      "Epoch 38/40\n",
      "15000/15000 [==============================] - 0s 18us/step - loss: 0.2352 - acc: 0.9167 - val_loss: 0.3049 - val_acc: 0.8810\n",
      "Epoch 39/40\n",
      "15000/15000 [==============================] - 0s 18us/step - loss: 0.2289 - acc: 0.9195 - val_loss: 0.3023 - val_acc: 0.8815\n",
      "Epoch 40/40\n",
      "15000/15000 [==============================] - 0s 18us/step - loss: 0.2233 - acc: 0.9198 - val_loss: 0.2997 - val_acc: 0.8825\n"
     ]
    }
   ],
   "source": [
    "history = model.fit(partial_x_train,\n",
    "                    partial_y_train,\n",
    "                    epochs=40,\n",
    "                    batch_size=512,\n",
    "                    validation_data=(x_val, y_val),\n",
    "                    verbose=1)"
   ]
  },
  {
   "cell_type": "code",
   "execution_count": 14,
   "metadata": {},
   "outputs": [
    {
     "name": "stdout",
     "output_type": "stream",
     "text": [
      "25000/25000 [==============================] - 0s 11us/step\n",
      "[0.3138798371601105, 0.87076]\n"
     ]
    }
   ],
   "source": [
    "results = model.evaluate(test_data, test_labels)\n",
    "\n",
    "print(results)"
   ]
  },
  {
   "cell_type": "code",
   "execution_count": 15,
   "metadata": {},
   "outputs": [
    {
     "data": {
      "text/plain": [
       "dict_keys(['acc', 'val_loss', 'val_acc', 'loss'])"
      ]
     },
     "execution_count": 15,
     "metadata": {},
     "output_type": "execute_result"
    }
   ],
   "source": [
    "history_dict = history.history\n",
    "history_dict.keys()"
   ]
  },
  {
   "cell_type": "code",
   "execution_count": 17,
   "metadata": {},
   "outputs": [
    {
     "data": {
      "image/png": "[encoded data removed]",
      "text/plain": [
       "<Figure size 432x288 with 1 Axes>"
      ]
     },
     "metadata": {
      "needs_background": "light"
     },
     "output_type": "display_data"
    }
   ],
   "source": [
    "import matplotlib.pyplot as plt\n",
    "%matplotlib inline\n",
    "\n",
    "acc = history.history['acc']\n",
    "val_acc = history.history['val_acc']\n",
    "loss = history.history['loss']\n",
    "val_loss = history.history['val_loss']\n",
    "\n",
    "epochs = range(1, len(acc) + 1)\n",
    "\n",
    "# \"bo\" is for \"blue dot\"\n",
    "plt.plot(epochs, loss, 'bo', label='Training loss')\n",
    "# b is for \"solid blue line\"\n",
    "plt.plot(epochs, val_loss, 'b', label='Validation loss')\n",
    "plt.title('Training and validation loss')\n",
    "plt.xlabel('Epochs')\n",
    "plt.ylabel('Loss')\n",
    "plt.legend()\n",
    "\n",
    "plt.show()"
   ]
  },
  {
   "cell_type": "code",
   "execution_count": 18,
   "metadata": {},
   "outputs": [
    {
     "data": {
      "image/png": "[encoded data removed]",
      "text/plain": [
       "<Figure size 432x288 with 1 Axes>"
      ]
     },
     "metadata": {
      "needs_background": "light"
     },
     "output_type": "display_data"
    }
   ],
   "source": [
    "plt.clf()   # clear figure\n",
    "acc_values = history_dict['acc']\n",
    "val_acc_values = history_dict['val_acc']\n",
    "\n",
    "plt.plot(epochs, acc, 'bo', label='Training acc')\n",
    "plt.plot(epochs, val_acc, 'b', label='Validation acc')\n",
    "plt.title('Training and validation accuracy')\n",
    "plt.xlabel('Epochs')\n",
    "plt.ylabel('Accuracy')\n",
    "plt.legend()\n",
    "\n",
    "plt.show()"
   ]
  },
  {
   "cell_type": "code",
   "execution_count": null,
   "metadata": {},
   "outputs": [],
   "source": []
  }
 ],
 "metadata": {
  "kernelspec": {
   "display_name": "Python 3",
   "language": "python",
   "name": "python3"
  },
  "language_info": {
   "codemirror_mode": {
    "name": "ipython",
    "version": 3
   },
   "file_extension": ".py",
   "mimetype": "text/x-python",
   "name": "python",
   "nbconvert_exporter": "python",
   "pygments_lexer": "ipython3",
   "version": "3.5.5"
  }
 },
 "nbformat": 4,
 "nbformat_minor": 2
}
